{
 "cells": [
  {
   "cell_type": "code",
   "execution_count": null,
   "metadata": {},
   "outputs": [],
   "source": [
    "Python posiada szereg wbudowanych funkcji, które czynią nasz kod bardziej eleganckim. Jedną z nich jest funkcja zip. Trzeba jednak uważać - jej użycie może być nieintuicyjne dla początkujących, co zwiększa prawdopodobieństwo błędów. "
   ]
  },
  {
   "cell_type": "code",
   "execution_count": 4,
   "metadata": {},
   "outputs": [
    {
     "name": "stdout",
     "output_type": "stream",
     "text": [
      "[[1, 1], [2, 2], [3, 3]]\n"
     ]
    }
   ],
   "source": [
    "'''\n",
    "Weźmy na przykład macierz 2*3 przedstawiony jako zagnieżdżona lista:\n",
    "\n",
    "\n",
    "matrix = [[1, 2, 3], [1, 2, 3]]\n",
    "\n",
    "A oto pytanie, dotyczące Pythona, które często pada na rozmowach technicznych:\n",
    "\n",
    "\n",
    "Jak transponować taką macierz?\n",
    "\n",
    "\n",
    "Junior napisze pewnie pętle for, a senior będzie potrzebował do tego jednej linijki kodu:\n",
    "\n",
    "'''\n",
    "matrix = [[1, 2, 3], [1, 2, 3]]\n",
    "matrix_T = [list(i) for i in zip(*matrix)]\n",
    "print(matrix_T)"
   ]
  },
  {
   "cell_type": "code",
   "execution_count": 18,
   "metadata": {
    "scrolled": true
   },
   "outputs": [
    {
     "name": "stdout",
     "output_type": "stream",
     "text": [
      "<zip object at 0x00000294BF7F9D00>\n",
      "[(1, 'Elon Mask'), (2, 'Tim Cook'), (3, 'Bill Gates'), (4, 'Yang Zhou')]\n"
     ]
    }
   ],
   "source": [
    "'Etap 0: podstawowe użycie funkcji zip'\n",
    "'Funkcja zip łączy ze sobą elementy z różnych obiektów iterowalnych, takich jak listy, krotki, zbiory, i zwraca nam iterator. Możemy jej użyć to połączenia ze sobą dwóch list:'\n",
    "\n",
    "id = [1, 2, 3, 4]\n",
    "leaders = ['Elon Mask', 'Tim Cook', 'Bill Gates', 'Yang Zhou']\n",
    "record = zip(id, leaders)\n",
    "\n",
    "print(record)\n",
    "# <zip object at 0x7f266a707d80>\n",
    "\n",
    "print(list(record))\n",
    "# [(1, 'Elon Mask'), (2, 'Tim Cook'), (3, 'Bill Gates'), (4, 'Yang Zhou')]\n"
   ]
  },
  {
   "cell_type": "code",
   "execution_count": 17,
   "metadata": {},
   "outputs": [
    {
     "name": "stdout",
     "output_type": "stream",
     "text": [
      "[(1,), (2,), (3,), (4,)]\n",
      "[(1, 'Elon Mask', 'male'), (2, 'Tim Cook', 'male'), (3, 'Bill Gates', 'male'), (4, 'Yang Zhou', 'male')]\n"
     ]
    }
   ],
   "source": [
    "'''\n",
    "Etap 1: łączenie ze sobą większej lub mniejszej ilości obiektów iterowalnych na raz\n",
    "Tak naprawdę to funkcja zip ma w Pythonie o wiele większe możliwości od normalnego suwaka - może ona działać z dowolną liczbą obiektów iterowalnych, a nie tylko z dwoma. Jeśli przekażemy do funkcji zip listę:\n",
    "'''\n",
    "\n",
    "id = [1, 2, 3, 4]\n",
    "record = zip(id)\n",
    "print(list(record))\n",
    "# [(1,), (2,), (3,), (4,)]\n",
    "\n",
    "\n",
    "id = [1, 2, 3, 4]\n",
    "leaders = ['Elon Mask', 'Tim Cook', 'Bill Gates', 'Yang Zhou']\n",
    "sex = ['male', 'male', 'male', 'male']\n",
    "record = zip(id, leaders, sex)\n",
    "\n",
    "print(list(record))\n",
    "# [(1, 'Elon Mask', 'male'), (2, 'Tim Cook', 'male'), (3, 'Bill Gates', 'male'), (4, 'Yang Zhou', 'male')]"
   ]
  },
  {
   "cell_type": "code",
   "execution_count": 14,
   "metadata": {},
   "outputs": [
    {
     "name": "stdout",
     "output_type": "stream",
     "text": [
      "[(1, 'Elon Mask'), (2, 'Tim Cook')]\n",
      "[(1, 'Elon Mask'), (2, 'Tim Cook'), (None, 'Bill Gates'), (None, 'Yang Zhou')]\n",
      "[(1, 'Elon Mask'), (2, 'Tim Cook'), ('Top', 'Bill Gates'), ('Top', 'Yang Zhou')]\n"
     ]
    }
   ],
   "source": [
    "'''\n",
    "Etap 2: radzenie sobie z nierówną długością argumentów\n",
    "Prawdziwe dane nie zawsze są czyste i pełne - czasami musimy uporać się z nierówną długością obiektów iterowalnych. Wynik funkcji zip jest domyślnie oparty na najkrótszym z obiektów iterowalnych. \n",
    "'''\n",
    "\n",
    "id = [1, 2]\n",
    "leaders = ['Elon Mask', 'Tim Cook', 'Bill Gates', 'Yang Zhou']\n",
    "record = zip(id, leaders)\n",
    "\n",
    "print(list(record))\n",
    "# [(1, 'Elon Mask'), (2, 'Tim Cook')]\n",
    "'''\n",
    "Jak widać powyżej, najkrótsza lista to id, a więc record zawiera jedynie dwie krotki, a dwa ostatnie elementy w liście leaders zostały pominięte. \n",
    "\n",
    "Co możemy z tym zrobić?\n",
    "\n",
    "Możemy tutaj skorzystać z funkcji znajdującej się w module itertools o nazwie zip_longest. Jak sama nazwa wskazuje, funkcja ta jest związana z zip, a jej wynik zależy od najdłuższego argumentu. \n",
    "\n",
    "Wykorzystajmy zip_longest do wygenerowania listy record:\n",
    "\n",
    "'''\n",
    "from itertools import zip_longest\n",
    "id = [1, 2]\n",
    "leaders = ['Elon Mask', 'Tim Cook', 'Bill Gates', 'Yang Zhou']\n",
    "\n",
    "long_record = zip_longest(id, leaders)\n",
    "print(list(long_record))\n",
    "# [(1, 'Elon Mask'), (2, 'Tim Cook'), (None, 'Bill Gates'), (None, 'Yang Zhou')]\n",
    "\n",
    "long_record_2 = zip_longest(id, leaders, fillvalue='Top')\n",
    "print(list(long_record_2))\n",
    "# [(1, 'Elon Mask'), (2, 'Tim Cook'), ('Top', 'Bill Gates'), ('Top', 'Yang Zhou')]\n"
   ]
  },
  {
   "cell_type": "code",
   "execution_count": 15,
   "metadata": {
    "scrolled": true
   },
   "outputs": [
    {
     "name": "stdout",
     "output_type": "stream",
     "text": [
      "(1, 2, 3, 4)\n",
      "('Elon Mask', 'Tim Cook', 'Bill Gates', 'Yang Zhou')\n",
      "(1, 'Elon Mask') (2, 'Tim Cook') (3, 'Bill Gates') (4, 'Yang Zhou')\n",
      "(1, 2, 3, 4)\n",
      "('Elon Mask', 'Tim Cook', 'Bill Gates', 'Yang Zhou')\n"
     ]
    }
   ],
   "source": [
    "'''\n",
    "Prawdziwe dane nie zawsze są czyste i pełne - czasami musimy uporać się z nierówną długością obiektów iterowalnych. Wynik funkcji zip jest domyślnie oparty na najkrótszym z obiektów iterowalnych. \n",
    "\n",
    "Etap 3: poznanie operacji rozpakowującej\n",
    "A co by było, gdybyśmy otrzymali listę record z poprzedniego przykładu i chcielibyśmy rozpakować ją do osobnych list? Niestety Python nie ma przeznaczonej do tego funkcji. Chociaż, jeśli znamy specjalne użycia *, to rozpakowywanie stanie się niezwykle proste. \n",
    "'''\n",
    "\n",
    "record = [(1, 'Elon Mask'), (2, 'Tim Cook'), (3, 'Bill Gates'), (4, 'Yang Zhou')]\n",
    "id, leaders = zip(*record)\n",
    "print(id)\n",
    "# (1, 2, 3, 4)\n",
    "print(leaders)\n",
    "# ('Elon Mask', 'Tim Cook', 'Bill Gates', 'Yang Zhou')\n",
    "'''\n",
    "Powyżej widzimy, że asterysk wykonał operację rozpakowującą, czyli wyodrębnił wszystkie 4 krotki z listy record. Jeśli nie użyjemy tej techniki, to następująca metoda będzie identyczna:\n",
    "'''\n",
    "\n",
    "record = [(1, 'Elon Mask'), (2, 'Tim Cook'), (3, 'Bill Gates'), (4, 'Yang Zhou')]\n",
    "\n",
    "print(*record)  # unpack the list by one asterisk\n",
    "# (1, 'Elon Mask') (2, 'Tim Cook') (3, 'Bill Gates') (4, 'Yang Zhou')\n",
    "\n",
    "id, leaders = zip((1, 'Elon Mask'), (2, 'Tim Cook'), (3, 'Bill Gates'), (4, 'Yang Zhou'))\n",
    "print(id)\n",
    "# (1, 2, 3, 4)\n",
    "print(leaders)\n",
    "# ('Elon Mask', 'Tim Cook', 'Bill Gates', 'Yang Zhou')\n"
   ]
  },
  {
   "cell_type": "code",
   "execution_count": 20,
   "metadata": {},
   "outputs": [
    {
     "name": "stdout",
     "output_type": "stream",
     "text": [
      "{1: 'Elon Mask', 2: 'Tim Cook', 3: 'Bill Gates', 4: 'Yang Zhou'}\n",
      "{1: 'Elon Mask', 2: 'Tim Cook', 3: 'Bill Gates', 4: 'Yang Zhou'}\n",
      "{1: 'Elon Mask', 2: 'Tim Cook', 3: 'Bill Gates', 4: 'Yang Zhou', 5: 'Larry Page', 6: 'Sergey Brin'}\n"
     ]
    }
   ],
   "source": [
    "'''\n",
    "Etap 4: tworzenie i aktualizacja słowników przy pomocy funkcji zip\n",
    "Dzięki funkcji zip, tworzenie i aktualizowanie dict opartego na oddzielnych listach jest dosyć proste. Mamy tutaj dwa jednolinijkowe rozwiązania: \n",
    "\n",
    "Używanie wyrażeń słownikowych razem z zip\n",
    "Używanie funkcji dict razem z zip\n",
    "'''\n",
    "\n",
    "id = [1, 2, 3, 4]\n",
    "leaders = ['Elon Mask', 'Tim Cook', 'Bill Gates', 'Yang Zhou']\n",
    "\n",
    "# create dict by dict comprehension\n",
    "leader_dict = {i: name for i, name in zip(id, leaders)}\n",
    "print(leader_dict)\n",
    "# {1: 'Elon Mask', 2: 'Tim Cook', 3: 'Bill Gates', 4: 'Yang Zhou'}\n",
    "\n",
    "# create dict by dict function\n",
    "leader_dict_2 = dict(zip(id, leaders))\n",
    "print(leader_dict_2)\n",
    "# {1: 'Elon Mask', 2: 'Tim Cook', 3: 'Bill Gates', 4: 'Yang Zhou'}\n",
    "\n",
    "# update\n",
    "other_id = [5, 6]\n",
    "other_leaders = ['Larry Page', 'Sergey Brin']\n",
    "leader_dict.update(zip(other_id, other_leaders))\n",
    "print(leader_dict)\n",
    "# {1: 'Elon Mask', 2: 'Tim Cook', 3: 'Bill Gates', 4: 'Yang Zhou', 5: 'Larry Page', 6: 'Sergey Brin'}\n"
   ]
  },
  {
   "cell_type": "code",
   "execution_count": 21,
   "metadata": {},
   "outputs": [
    {
     "name": "stdout",
     "output_type": "stream",
     "text": [
      "The profit of a box of cherry is £1.5!\n",
      "The profit of a box of strawberry is £1.5!\n",
      "The profit of a box of banana is £3!\n"
     ]
    }
   ],
   "source": [
    "'''\n",
    "Etap 5: korzystanie z funkcji zip w pętlach for\n",
    "Często zdarza się, że używamy wielu obiektów iterowalnych na raz. Funkcja zip ma tutaj spore pole do popisu, jeśli będziemy jej używać z pętlami for. \n",
    "\n",
    "'''\n",
    "\n",
    "products = [\"cherry\", \"strawberry\", \"banana\"]\n",
    "price = [2.5, 3, 5]\n",
    "cost = [1, 1.5, 2]\n",
    "for prod, p, c in zip(products, price, cost):\n",
    "    print(f'The profit of a box of {prod} is £{p-c}!')\n",
    "# The profit of a box of cherry is £1.5!\n",
    "# The profit of a box of strawberry is £1.5!\n",
    "# The profit of a box of banana is £3!\n",
    "\n"
   ]
  },
  {
   "cell_type": "code",
   "execution_count": 22,
   "metadata": {},
   "outputs": [
    {
     "name": "stdout",
     "output_type": "stream",
     "text": [
      "[[1, 1], [2, 2], [3, 3]]\n"
     ]
    }
   ],
   "source": [
    "\n",
    "'''\n",
    "Etap 6: macierz transponowana\n",
    "Wróćmy teraz do pytania technicznego, o którym wspomniałem na początku:\n",
    "\n",
    "\n",
    "Jak otrzymać macierz transponowaną z macierzy 2*3?\n",
    "\n",
    "\n",
    "Ponieważ znamy już m.in. rozpakowywanie przy pomocy znaku *, czy wyrażenia listowe, to jednolinijkowe rozwiązanie wydaje się tutaj bardzo intuicyjne. \n",
    "'''\n",
    "\n",
    "matrix = [[1, 2, 3], [1, 2, 3]]\n",
    "matrix_T = [list(i) for i in zip(*matrix)]\n",
    "print(matrix_T)\n",
    "# [[1, 1], [2, 2], [3, 3]]\n"
   ]
  },
  {
   "cell_type": "code",
   "execution_count": null,
   "metadata": {},
   "outputs": [],
   "source": []
  }
 ],
 "metadata": {
  "kernelspec": {
   "display_name": "Python 3",
   "language": "python",
   "name": "python3"
  },
  "language_info": {
   "codemirror_mode": {
    "name": "ipython",
    "version": 3
   },
   "file_extension": ".py",
   "mimetype": "text/x-python",
   "name": "python",
   "nbconvert_exporter": "python",
   "pygments_lexer": "ipython3",
   "version": "3.7.4"
  }
 },
 "nbformat": 4,
 "nbformat_minor": 4
}
